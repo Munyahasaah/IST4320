{
 "cells": [
  {
   "cell_type": "markdown",
   "id": "a91e61e6-034b-482f-ab60-61771ae61e90",
   "metadata": {},
   "source": [
    "# Intro to Python for Data Analytics"
   ]
  },
  {
   "cell_type": "code",
   "execution_count": null,
   "id": "2e1826f6-c9e3-458c-b452-b82cd1ecbeb0",
   "metadata": {},
   "outputs": [],
   "source": [
    "!pip install pandas #run this if you get a module not found error when you try\n",
    "# to import pandas\n",
    "# OR you can directly use this in a terminal"
   ]
  },
  {
   "cell_type": "code",
   "execution_count": 26,
   "id": "e5392a86-1fe0-463d-9114-c7b0105e0ea6",
   "metadata": {},
   "outputs": [],
   "source": [
    "import pandas as pd #this will import the pandas module, abbreviated as pd\n",
    "import numpy as np #this will import the numpy module, abbreviated as np\n",
    "#These are already part of nearly every Python installation, so we don't install them\n",
    "#If you DID need to install, you could use \"pip install\" in your terminal"
   ]
  },
  {
   "cell_type": "code",
   "execution_count": 34,
   "id": "000cb77e-40e0-47e7-8939-102fd835c3cd",
   "metadata": {
    "tags": []
   },
   "outputs": [
    {
     "name": "stdout",
     "output_type": "stream",
     "text": [
      "'2022-01-31 R notes.ipynb'  '2022-02-02 Python notes.ipynb'   demo.xlsx\n",
      "I can use bash in this notebook! yay ^_^\n"
     ]
    }
   ],
   "source": [
    "!ls\n",
    "#by the way, if you start a command with !, it will pass it to the terminal 😀\n",
    "!echo \"I can use bash in this notebook! yay ^_^\" "
   ]
  },
  {
   "cell_type": "code",
   "execution_count": 31,
   "id": "14e3b9a6-7757-4022-b0e8-55ae567f224e",
   "metadata": {},
   "outputs": [],
   "source": [
    "demo = pd.read_excel(\"~/IST 2510/demo.xlsx\")\n",
    "#oops, I got an error saying I needed to install openpyxl.. \n",
    "#did you get this error? if so, run the next cell 😀 \n",
    "#then come back to this cell and run it again 🙂"
   ]
  },
  {
   "cell_type": "code",
   "execution_count": 30,
   "id": "10adbfc2-0987-4a92-9b14-9effa067707a",
   "metadata": {
    "tags": []
   },
   "outputs": [
    {
     "name": "stdout",
     "output_type": "stream",
     "text": [
      "Requirement already satisfied: openpyxl in /opt/conda/lib/python3.9/site-packages (3.0.9)\n",
      "Requirement already satisfied: et-xmlfile in /opt/conda/lib/python3.9/site-packages (from openpyxl) (1.1.0)\n"
     ]
    }
   ],
   "source": [
    "!pip install openpyxl"
   ]
  },
  {
   "cell_type": "code",
   "execution_count": 32,
   "id": "3c485411-0750-4038-9fc8-33b74f25a47a",
   "metadata": {},
   "outputs": [
    {
     "data": {
      "text/plain": [
       "Index(['age', 'marital', 'address', 'income', 'inccat', 'car', 'carcat', 'ed',\n",
       "       'employ', 'retire', 'empcat', 'jobsat', 'sex', 'reside', 'wireless',\n",
       "       'multline', 'voice', 'pager', 'internet', 'callid', 'callwait', 'owntv',\n",
       "       'ownvcr', 'owncd', 'ownpda', 'ownpc', 'ownfax', 'news', 'response',\n",
       "       'rating1', 'rating2'],\n",
       "      dtype='object')"
      ]
     },
     "execution_count": 32,
     "metadata": {},
     "output_type": "execute_result"
    }
   ],
   "source": [
    "demo.columns"
   ]
  },
  {
   "cell_type": "code",
   "execution_count": 35,
   "id": "a944551d-495e-4228-8bb2-d200afdf0ceb",
   "metadata": {},
   "outputs": [
    {
     "data": {
      "text/html": [
       "<div>\n",
       "<style scoped>\n",
       "    .dataframe tbody tr th:only-of-type {\n",
       "        vertical-align: middle;\n",
       "    }\n",
       "\n",
       "    .dataframe tbody tr th {\n",
       "        vertical-align: top;\n",
       "    }\n",
       "\n",
       "    .dataframe thead th {\n",
       "        text-align: right;\n",
       "    }\n",
       "</style>\n",
       "<table border=\"1\" class=\"dataframe\">\n",
       "  <thead>\n",
       "    <tr style=\"text-align: right;\">\n",
       "      <th></th>\n",
       "      <th>age</th>\n",
       "      <th>marital</th>\n",
       "      <th>address</th>\n",
       "      <th>income</th>\n",
       "      <th>inccat</th>\n",
       "      <th>car</th>\n",
       "      <th>carcat</th>\n",
       "      <th>ed</th>\n",
       "      <th>employ</th>\n",
       "      <th>retire</th>\n",
       "      <th>...</th>\n",
       "      <th>owntv</th>\n",
       "      <th>ownvcr</th>\n",
       "      <th>owncd</th>\n",
       "      <th>ownpda</th>\n",
       "      <th>ownpc</th>\n",
       "      <th>ownfax</th>\n",
       "      <th>news</th>\n",
       "      <th>response</th>\n",
       "      <th>rating1</th>\n",
       "      <th>rating2</th>\n",
       "    </tr>\n",
       "  </thead>\n",
       "  <tbody>\n",
       "    <tr>\n",
       "      <th>0</th>\n",
       "      <td>55</td>\n",
       "      <td>Married</td>\n",
       "      <td>12</td>\n",
       "      <td>72</td>\n",
       "      <td>$50 - $74</td>\n",
       "      <td>36.2</td>\n",
       "      <td>Luxury</td>\n",
       "      <td>Did not complete high school</td>\n",
       "      <td>23</td>\n",
       "      <td>No</td>\n",
       "      <td>...</td>\n",
       "      <td>Yes</td>\n",
       "      <td>Yes</td>\n",
       "      <td>Yes</td>\n",
       "      <td>No</td>\n",
       "      <td>No</td>\n",
       "      <td>No</td>\n",
       "      <td>Yes</td>\n",
       "      <td>No</td>\n",
       "      <td>6</td>\n",
       "      <td>7</td>\n",
       "    </tr>\n",
       "    <tr>\n",
       "      <th>1</th>\n",
       "      <td>56</td>\n",
       "      <td>Unmarried</td>\n",
       "      <td>29</td>\n",
       "      <td>153</td>\n",
       "      <td>$75+</td>\n",
       "      <td>76.9</td>\n",
       "      <td>Luxury</td>\n",
       "      <td>Did not complete high school</td>\n",
       "      <td>35</td>\n",
       "      <td>No</td>\n",
       "      <td>...</td>\n",
       "      <td>Yes</td>\n",
       "      <td>Yes</td>\n",
       "      <td>Yes</td>\n",
       "      <td>No</td>\n",
       "      <td>No</td>\n",
       "      <td>No</td>\n",
       "      <td>Yes</td>\n",
       "      <td>Yes</td>\n",
       "      <td>8</td>\n",
       "      <td>9</td>\n",
       "    </tr>\n",
       "    <tr>\n",
       "      <th>2</th>\n",
       "      <td>28</td>\n",
       "      <td>Married</td>\n",
       "      <td>9</td>\n",
       "      <td>28</td>\n",
       "      <td>$25 - $49</td>\n",
       "      <td>13.7</td>\n",
       "      <td>Economy</td>\n",
       "      <td>Some college</td>\n",
       "      <td>4</td>\n",
       "      <td>No</td>\n",
       "      <td>...</td>\n",
       "      <td>Yes</td>\n",
       "      <td>Yes</td>\n",
       "      <td>Yes</td>\n",
       "      <td>Yes</td>\n",
       "      <td>Yes</td>\n",
       "      <td>No</td>\n",
       "      <td>No</td>\n",
       "      <td>No</td>\n",
       "      <td>7</td>\n",
       "      <td>8</td>\n",
       "    </tr>\n",
       "    <tr>\n",
       "      <th>3</th>\n",
       "      <td>24</td>\n",
       "      <td>Married</td>\n",
       "      <td>4</td>\n",
       "      <td>26</td>\n",
       "      <td>$25 - $49</td>\n",
       "      <td>12.5</td>\n",
       "      <td>Economy</td>\n",
       "      <td>College degree</td>\n",
       "      <td>0</td>\n",
       "      <td>No</td>\n",
       "      <td>...</td>\n",
       "      <td>Yes</td>\n",
       "      <td>Yes</td>\n",
       "      <td>Yes</td>\n",
       "      <td>Yes</td>\n",
       "      <td>Yes</td>\n",
       "      <td>Yes</td>\n",
       "      <td>No</td>\n",
       "      <td>No</td>\n",
       "      <td>2</td>\n",
       "      <td>3</td>\n",
       "    </tr>\n",
       "    <tr>\n",
       "      <th>4</th>\n",
       "      <td>25</td>\n",
       "      <td>Unmarried</td>\n",
       "      <td>2</td>\n",
       "      <td>23</td>\n",
       "      <td>Under $25</td>\n",
       "      <td>11.3</td>\n",
       "      <td>Economy</td>\n",
       "      <td>High school degree</td>\n",
       "      <td>5</td>\n",
       "      <td>No</td>\n",
       "      <td>...</td>\n",
       "      <td>Yes</td>\n",
       "      <td>Yes</td>\n",
       "      <td>Yes</td>\n",
       "      <td>No</td>\n",
       "      <td>No</td>\n",
       "      <td>No</td>\n",
       "      <td>No</td>\n",
       "      <td>No</td>\n",
       "      <td>9</td>\n",
       "      <td>10</td>\n",
       "    </tr>\n",
       "    <tr>\n",
       "      <th>...</th>\n",
       "      <td>...</td>\n",
       "      <td>...</td>\n",
       "      <td>...</td>\n",
       "      <td>...</td>\n",
       "      <td>...</td>\n",
       "      <td>...</td>\n",
       "      <td>...</td>\n",
       "      <td>...</td>\n",
       "      <td>...</td>\n",
       "      <td>...</td>\n",
       "      <td>...</td>\n",
       "      <td>...</td>\n",
       "      <td>...</td>\n",
       "      <td>...</td>\n",
       "      <td>...</td>\n",
       "      <td>...</td>\n",
       "      <td>...</td>\n",
       "      <td>...</td>\n",
       "      <td>...</td>\n",
       "      <td>...</td>\n",
       "      <td>...</td>\n",
       "    </tr>\n",
       "    <tr>\n",
       "      <th>6395</th>\n",
       "      <td>23</td>\n",
       "      <td>Unmarried</td>\n",
       "      <td>1</td>\n",
       "      <td>15</td>\n",
       "      <td>Under $25</td>\n",
       "      <td>7.4</td>\n",
       "      <td>Economy</td>\n",
       "      <td>College degree</td>\n",
       "      <td>0</td>\n",
       "      <td>No</td>\n",
       "      <td>...</td>\n",
       "      <td>No</td>\n",
       "      <td>No</td>\n",
       "      <td>No</td>\n",
       "      <td>No</td>\n",
       "      <td>Yes</td>\n",
       "      <td>No</td>\n",
       "      <td>No</td>\n",
       "      <td>No</td>\n",
       "      <td>5</td>\n",
       "      <td>6</td>\n",
       "    </tr>\n",
       "    <tr>\n",
       "      <th>6396</th>\n",
       "      <td>52</td>\n",
       "      <td>Unmarried</td>\n",
       "      <td>8</td>\n",
       "      <td>25</td>\n",
       "      <td>$25 - $49</td>\n",
       "      <td>12.7</td>\n",
       "      <td>Economy</td>\n",
       "      <td>Some college</td>\n",
       "      <td>2</td>\n",
       "      <td>No</td>\n",
       "      <td>...</td>\n",
       "      <td>Yes</td>\n",
       "      <td>Yes</td>\n",
       "      <td>Yes</td>\n",
       "      <td>No</td>\n",
       "      <td>Yes</td>\n",
       "      <td>No</td>\n",
       "      <td>No</td>\n",
       "      <td>No</td>\n",
       "      <td>6</td>\n",
       "      <td>7</td>\n",
       "    </tr>\n",
       "    <tr>\n",
       "      <th>6397</th>\n",
       "      <td>42</td>\n",
       "      <td>Unmarried</td>\n",
       "      <td>20</td>\n",
       "      <td>59</td>\n",
       "      <td>$50 - $74</td>\n",
       "      <td>29.4</td>\n",
       "      <td>Standard</td>\n",
       "      <td>Did not complete high school</td>\n",
       "      <td>16</td>\n",
       "      <td>No</td>\n",
       "      <td>...</td>\n",
       "      <td>Yes</td>\n",
       "      <td>Yes</td>\n",
       "      <td>Yes</td>\n",
       "      <td>No</td>\n",
       "      <td>No</td>\n",
       "      <td>No</td>\n",
       "      <td>Yes</td>\n",
       "      <td>No</td>\n",
       "      <td>4</td>\n",
       "      <td>5</td>\n",
       "    </tr>\n",
       "    <tr>\n",
       "      <th>6398</th>\n",
       "      <td>51</td>\n",
       "      <td>Unmarried</td>\n",
       "      <td>17</td>\n",
       "      <td>123</td>\n",
       "      <td>$75+</td>\n",
       "      <td>62.5</td>\n",
       "      <td>Luxury</td>\n",
       "      <td>College degree</td>\n",
       "      <td>26</td>\n",
       "      <td>No</td>\n",
       "      <td>...</td>\n",
       "      <td>Yes</td>\n",
       "      <td>Yes</td>\n",
       "      <td>Yes</td>\n",
       "      <td>Yes</td>\n",
       "      <td>Yes</td>\n",
       "      <td>Yes</td>\n",
       "      <td>Yes</td>\n",
       "      <td>No</td>\n",
       "      <td>5</td>\n",
       "      <td>5</td>\n",
       "    </tr>\n",
       "    <tr>\n",
       "      <th>6399</th>\n",
       "      <td>28</td>\n",
       "      <td>Unmarried</td>\n",
       "      <td>3</td>\n",
       "      <td>22</td>\n",
       "      <td>Under $25</td>\n",
       "      <td>11.1</td>\n",
       "      <td>Economy</td>\n",
       "      <td>Did not complete high school</td>\n",
       "      <td>2</td>\n",
       "      <td>No</td>\n",
       "      <td>...</td>\n",
       "      <td>Yes</td>\n",
       "      <td>Yes</td>\n",
       "      <td>Yes</td>\n",
       "      <td>No</td>\n",
       "      <td>No</td>\n",
       "      <td>No</td>\n",
       "      <td>No</td>\n",
       "      <td>No</td>\n",
       "      <td>10</td>\n",
       "      <td>10</td>\n",
       "    </tr>\n",
       "  </tbody>\n",
       "</table>\n",
       "<p>6400 rows × 31 columns</p>\n",
       "</div>"
      ],
      "text/plain": [
       "      age    marital  address  income     inccat   car    carcat  \\\n",
       "0      55    Married       12      72  $50 - $74  36.2    Luxury   \n",
       "1      56  Unmarried       29     153       $75+  76.9    Luxury   \n",
       "2      28    Married        9      28  $25 - $49  13.7   Economy   \n",
       "3      24    Married        4      26  $25 - $49  12.5   Economy   \n",
       "4      25  Unmarried        2      23  Under $25  11.3   Economy   \n",
       "...   ...        ...      ...     ...        ...   ...       ...   \n",
       "6395   23  Unmarried        1      15  Under $25   7.4   Economy   \n",
       "6396   52  Unmarried        8      25  $25 - $49  12.7   Economy   \n",
       "6397   42  Unmarried       20      59  $50 - $74  29.4  Standard   \n",
       "6398   51  Unmarried       17     123       $75+  62.5    Luxury   \n",
       "6399   28  Unmarried        3      22  Under $25  11.1   Economy   \n",
       "\n",
       "                                ed  employ retire  ... owntv ownvcr owncd  \\\n",
       "0     Did not complete high school      23     No  ...   Yes    Yes   Yes   \n",
       "1     Did not complete high school      35     No  ...   Yes    Yes   Yes   \n",
       "2                     Some college       4     No  ...   Yes    Yes   Yes   \n",
       "3                   College degree       0     No  ...   Yes    Yes   Yes   \n",
       "4               High school degree       5     No  ...   Yes    Yes   Yes   \n",
       "...                            ...     ...    ...  ...   ...    ...   ...   \n",
       "6395                College degree       0     No  ...    No     No    No   \n",
       "6396                  Some college       2     No  ...   Yes    Yes   Yes   \n",
       "6397  Did not complete high school      16     No  ...   Yes    Yes   Yes   \n",
       "6398                College degree      26     No  ...   Yes    Yes   Yes   \n",
       "6399  Did not complete high school       2     No  ...   Yes    Yes   Yes   \n",
       "\n",
       "      ownpda ownpc ownfax news response rating1 rating2  \n",
       "0         No    No     No  Yes       No       6       7  \n",
       "1         No    No     No  Yes      Yes       8       9  \n",
       "2        Yes   Yes     No   No       No       7       8  \n",
       "3        Yes   Yes    Yes   No       No       2       3  \n",
       "4         No    No     No   No       No       9      10  \n",
       "...      ...   ...    ...  ...      ...     ...     ...  \n",
       "6395      No   Yes     No   No       No       5       6  \n",
       "6396      No   Yes     No   No       No       6       7  \n",
       "6397      No    No     No  Yes       No       4       5  \n",
       "6398     Yes   Yes    Yes  Yes       No       5       5  \n",
       "6399      No    No     No   No       No      10      10  \n",
       "\n",
       "[6400 rows x 31 columns]"
      ]
     },
     "execution_count": 35,
     "metadata": {},
     "output_type": "execute_result"
    }
   ],
   "source": [
    "demo #preview of your data"
   ]
  },
  {
   "cell_type": "markdown",
   "id": "dd5c935e-9676-4729-8a30-31661b002037",
   "metadata": {
    "tags": []
   },
   "source": [
    "### Common Data Formats in Python\n",
    "There's so many custom objects in Python, it'd be difficult to list them all 😅. Here's some common objects you'll work with\n",
    "- Pandas DataFrames\n",
    "- NumPy Arrays\n",
    "- Lists\n",
    "- Dictionaries\n",
    "- ... and there's way more 😅 but luckily we can coerce i.e. convert from one type to another."
   ]
  },
  {
   "cell_type": "code",
   "execution_count": 36,
   "id": "6f10b191-b889-4a55-a4b8-ccd1934a682a",
   "metadata": {},
   "outputs": [
    {
     "data": {
      "text/plain": [
       "pandas.core.frame.DataFrame"
      ]
     },
     "execution_count": 36,
     "metadata": {},
     "output_type": "execute_result"
    }
   ],
   "source": [
    "type(demo) #this shows that our data was loaded into a pandas DataFrame"
   ]
  },
  {
   "cell_type": "code",
   "execution_count": 37,
   "id": "39015ba6-3e6b-40c7-891e-a19ac1a11910",
   "metadata": {},
   "outputs": [
    {
     "data": {
      "text/plain": [
       "pandas.core.series.Series"
      ]
     },
     "execution_count": 37,
     "metadata": {},
     "output_type": "execute_result"
    }
   ],
   "source": [
    "type(demo[\"marital\"]) #there's also Pandas Series, which are vectors like NumPy\n",
    "#any single column of data in a DataFrame is treated as a Series"
   ]
  },
  {
   "cell_type": "code",
   "execution_count": 38,
   "id": "66a370b8-eb0b-4126-9084-e7952dc2b235",
   "metadata": {},
   "outputs": [
    {
     "data": {
      "text/plain": [
       "numpy.ndarray"
      ]
     },
     "execution_count": 38,
     "metadata": {},
     "output_type": "execute_result"
    }
   ],
   "source": [
    "type(demo[\"marital\"].to_numpy()) #this converts a Pandas Series to a NumPy array"
   ]
  },
  {
   "cell_type": "code",
   "execution_count": 39,
   "id": "672c8b11-9592-4ac1-b199-a94c9c0e113b",
   "metadata": {},
   "outputs": [
    {
     "data": {
      "text/plain": [
       "list"
      ]
     },
     "execution_count": 39,
     "metadata": {},
     "output_type": "execute_result"
    }
   ],
   "source": [
    "type(demo[\"marital\"].to_list()) #this converts a Pandas Series to a list object"
   ]
  },
  {
   "cell_type": "code",
   "execution_count": 40,
   "id": "282d5123-9af9-42c3-8740-dd42b9146064",
   "metadata": {
    "tags": []
   },
   "outputs": [
    {
     "data": {
      "text/plain": [
       "dict"
      ]
     },
     "execution_count": 40,
     "metadata": {},
     "output_type": "execute_result"
    }
   ],
   "source": [
    "type(demo[\"marital\"].to_dict()) #this converts a Pandas Series to a dictionary object"
   ]
  }
 ],
 "metadata": {
  "kernelspec": {
   "display_name": "Python 3 (ipykernel)",
   "language": "python",
   "name": "python3"
  },
  "language_info": {
   "codemirror_mode": {
    "name": "ipython",
    "version": 3
   },
   "file_extension": ".py",
   "mimetype": "text/x-python",
   "name": "python",
   "nbconvert_exporter": "python",
   "pygments_lexer": "ipython3",
   "version": "3.9.10"
  }
 },
 "nbformat": 4,
 "nbformat_minor": 5
}
