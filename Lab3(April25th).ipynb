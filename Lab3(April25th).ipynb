{
 "cells": [
  {
   "cell_type": "markdown",
   "id": "d53a2228-e310-47f2-be67-4808ccf72f0c",
   "metadata": {},
   "source": [
    "- Design a function that allows the user to input three integers and adds them together. Utilize the f-string formatting method to display your solution."
   ]
  },
  {
   "cell_type": "code",
   "execution_count": null,
   "id": "676133ae-be68-4a5c-a97f-8fe3b2ca5a19",
   "metadata": {},
   "outputs": [],
   "source": [
    "def add_three_integers():\n",
    "    try:\n",
    "        # Prompt the user to input three integers\n",
    "        num1 = int(input(\"Enter the first integer: \"))\n",
    "        num2 = int(input(\"Enter the second integer: \"))\n",
    "        num3 = int(input(\"Enter the third integer: \"))\n",
    "        \n",
    "        # Calculate the sum of the three integers\n",
    "        total = num1 + num2 + num3\n",
    "        \n",
    "        # Display the result using f-string formatting\n",
    "        print(f\"The sum of {num1}, {num2}, and {num3} is {total}.\")\n",
    "    except ValueError:\n",
    "        print(\"Please enter valid integers.\")\n",
    "\n",
    "# Call the function\n",
    "add_three_integers()"
   ]
  },
  {
   "cell_type": "markdown",
   "id": "ce24b152-4b4b-4437-aacb-aff0ce4dcae6",
   "metadata": {},
   "source": [
    "- Create a function that enables users to input two integers and divides them. Utilize the f-string formatting method to exhibit your solution.\n"
   ]
  },
  {
   "cell_type": "code",
   "execution_count": null,
   "id": "768a4536-2c16-4b2a-90dd-4cad5e96a7a9",
   "metadata": {},
   "outputs": [],
   "source": [
    "def divide_two_integers():\n",
    "    try:\n",
    "        # Prompt the user to input two integers\n",
    "        num1 = int(input(\"Enter the first integer: \"))\n",
    "        num2 = int(input(\"Enter the second integer: \"))\n",
    "        \n",
    "        # Calculate the division result\n",
    "        result = num1 / num2\n",
    "        \n",
    "        # Display the result using f-string formatting\n",
    "        print(f\"The division of {num1} by {num2} is {result}.\")\n",
    "    except ValueError:\n",
    "        print(\"Please enter valid integers.\")\n",
    "    except ZeroDivisionError:\n",
    "        print(\"Error: Cannot divide by zero.\")\n",
    "\n",
    "# Call the function\n",
    "divide_two_integers()"
   ]
  },
  {
   "cell_type": "markdown",
   "id": "57b0fc79-6f8f-4db7-ae6b-caac2b71873d",
   "metadata": {},
   "source": [
    "- Create a dog class with arritubutes Dogname, DogBreed and Dogsound. If you have a dog as a pet, please share their name. Also make an instances for the Dog. I'm curious about dog names, your dog's breed, and the sound they make (like 'Ruff' 🐕). )"
   ]
  },
  {
   "cell_type": "code",
   "execution_count": null,
   "id": "111871b8-edd1-428e-974e-e49049919451",
   "metadata": {},
   "outputs": [],
   "source": [
    "class Dog:\n",
    "    def __init__(self, name, breed, sound):\n",
    "        self.DogName = name\n",
    "        self.DogBreed = breed\n",
    "        self.DogSound = sound\n",
    "\n",
    "# Create an instance of the Dog class with the given attributes\n",
    "my_dog = Dog(\"Snutter\", \"Labrador Retriever\", \"Woof!\")\n",
    "\n",
    "# Accessing the attributes of the dog instance\n",
    "print(f\"Dog Name: {my_dog.DogName}\")\n",
    "print(f\"Dog Breed: {my_dog.DogBreed}\")\n",
    "print(f\"Dog Sound: {my_dog.DogSound}\")"
   ]
  },
  {
   "cell_type": "markdown",
   "id": "780e2836-5ccc-49f6-9d94-4a5f7cf3ec2b",
   "metadata": {},
   "source": [
    "- Convert this function to accpet mulitple positional arguments. "
   ]
  },
  {
   "cell_type": "code",
   "execution_count": 1,
   "id": "cc4ac1a0-1adc-4fe0-9f4d-f6885bb235a5",
   "metadata": {},
   "outputs": [
    {
     "name": "stdout",
     "output_type": "stream",
     "text": [
      "The color of my car is Blue\n"
     ]
    },
    {
     "ename": "TypeError",
     "evalue": "Car() takes 1 positional argument but 5 were given",
     "output_type": "error",
     "traceback": [
      "\u001b[0;31m---------------------------------------------------------------------------\u001b[0m",
      "\u001b[0;31mTypeError\u001b[0m                                 Traceback (most recent call last)",
      "Cell \u001b[0;32mIn[1], line 5\u001b[0m\n\u001b[1;32m      2\u001b[0m     \u001b[38;5;28mprint\u001b[39m(\u001b[38;5;124m\"\u001b[39m\u001b[38;5;124mThe color of my car is\u001b[39m\u001b[38;5;124m\"\u001b[39m, Color)\n\u001b[1;32m      3\u001b[0m Car(\u001b[38;5;124m\"\u001b[39m\u001b[38;5;124mBlue\u001b[39m\u001b[38;5;124m\"\u001b[39m)\n\u001b[0;32m----> 5\u001b[0m \u001b[43mCar\u001b[49m\u001b[43m(\u001b[49m\u001b[38;5;124;43m\"\u001b[39;49m\u001b[38;5;124;43mBlue\u001b[39;49m\u001b[38;5;124;43m\"\u001b[39;49m\u001b[43m,\u001b[49m\u001b[38;5;124;43m\"\u001b[39;49m\u001b[38;5;124;43mRed\u001b[39;49m\u001b[38;5;124;43m\"\u001b[39;49m\u001b[43m,\u001b[49m\u001b[38;5;124;43m\"\u001b[39;49m\u001b[38;5;124;43mGreen\u001b[39;49m\u001b[38;5;124;43m\"\u001b[39;49m\u001b[43m,\u001b[49m\u001b[38;5;124;43m\"\u001b[39;49m\u001b[38;5;124;43mSiliver\u001b[39;49m\u001b[38;5;124;43m\"\u001b[39;49m\u001b[43m,\u001b[49m\u001b[38;5;124;43m\"\u001b[39;49m\u001b[38;5;124;43mPink\u001b[39;49m\u001b[38;5;124;43m\"\u001b[39;49m\u001b[43m)\u001b[49m \n",
      "\u001b[0;31mTypeError\u001b[0m: Car() takes 1 positional argument but 5 were given"
     ]
    }
   ],
   "source": [
    "def Car(Color):\n",
    "    print(\"The color of my car is\", Color)\n",
    "Car(\"Blue\")\n",
    "\n",
    "Car(\"Blue\",\"Red\",\"Green\",\"Siliver\",\"Pink\") "
   ]
  },
  {
   "cell_type": "code",
   "execution_count": 1,
   "id": "b0f9fac3-c036-41bc-a5b1-97f42aafc3b3",
   "metadata": {},
   "outputs": [
    {
     "name": "stdout",
     "output_type": "stream",
     "text": [
      "The colors of my car are Blue\n",
      "The colors of my car are Blue, Red, Green, Silver, Pink\n"
     ]
    }
   ],
   "source": [
    "def Car(*colors):\n",
    "    print(\"The colors of my car are\", \", \".join(colors))\n",
    "\n",
    "# Testing with a single color\n",
    "Car(\"Blue\")\n",
    "\n",
    "# Testing with multiple colors\n",
    "Car(\"Blue\", \"Red\", \"Green\", \"Silver\", \"Pink\")"
   ]
  },
  {
   "cell_type": "markdown",
   "id": "ce0d933e-262d-4bbc-a030-1c20384be37b",
   "metadata": {},
   "source": [
    "- Currently this function can print any single IP Adress but please upgrade this function so it can accept any key value pair and print it. "
   ]
  },
  {
   "cell_type": "code",
   "execution_count": null,
   "id": "79a82cc0-ad48-42e9-be6b-fbd6b1adec1d",
   "metadata": {},
   "outputs": [],
   "source": [
    "def multi_Comapny_Ip(#####):\n",
    "    \n",
    "    print(\"Beginning\", key, \"query.\")\n",
    "    print(key, \"has been found. The company's ip is:\\n\", (value)\n",
    "\n",
    "# provide this line of code\n",
    "multi_Comapny_Ip(UC1=\"10.1.1.10\", UC2=\"192.168.1.20\") "
   ]
  },
  {
   "cell_type": "code",
   "execution_count": 2,
   "id": "e01205be",
   "metadata": {},
   "outputs": [
    {
     "name": "stdout",
     "output_type": "stream",
     "text": [
      "Beginning UC1 query.\n",
      "UC1 has been found. The company's IP is:\n",
      " 10.1.1.10\n",
      "Beginning UC2 query.\n",
      "UC2 has been found. The company's IP is:\n",
      " 192.168.1.20\n"
     ]
    }
   ],
   "source": [
    "def multi_Comapny_Ip(**kwargs):\n",
    "    for key, value in kwargs.items():\n",
    "        print(\"Beginning\", key, \"query.\")\n",
    "        print(key, \"has been found. The company's IP is:\\n\", value)\n",
    "\n",
    "# Testing the function with key-value pairs\n",
    "multi_Comapny_Ip(UC1=\"10.1.1.10\", UC2=\"192.168.1.20\")"
   ]
  },
  {
   "cell_type": "markdown",
   "id": "29a8d213-c49e-48e6-8be8-b82112b79f34",
   "metadata": {},
   "source": [
    " - Create a decorator to upgrade this fucntion so the first output would be \"Wau Wau\" and then the function will run. \n"
   ]
  },
  {
   "cell_type": "code",
   "execution_count": null,
   "id": "1f797d95-8893-4e6e-b347-cc8457b9d00c",
   "metadata": {},
   "outputs": [],
   "source": [
    "def get_dogs():\n",
    "    print(\"Wau Wau \")\n",
    "    return ['Spot', 'Charlie', 'Hudson', 'Max', 'Rex']\n",
    "dogs = get_dogs()"
   ]
  },
  {
   "cell_type": "code",
   "execution_count": 3,
   "id": "93b8e90a",
   "metadata": {},
   "outputs": [
    {
     "name": "stdout",
     "output_type": "stream",
     "text": [
      "Wau Wau\n",
      "['Spot', 'Charlie', 'Hudson', 'Max', 'Rex']\n"
     ]
    }
   ],
   "source": [
    "def wau_wau_decorator(func):\n",
    "    def wrapper():\n",
    "        print(\"Wau Wau\")\n",
    "        return func()\n",
    "    return wrapper\n",
    "\n",
    "@wau_wau_decorator\n",
    "def get_dogs():\n",
    "    return ['Spot', 'Charlie', 'Hudson', 'Max', 'Rex']\n",
    "\n",
    "dogs = get_dogs()\n",
    "print(dogs)"
   ]
  },
  {
   "cell_type": "code",
   "execution_count": null,
   "id": "ba8041ec",
   "metadata": {},
   "outputs": [],
   "source": []
  }
 ],
 "metadata": {
  "kernelspec": {
   "display_name": "Python 3 (ipykernel)",
   "language": "python",
   "name": "python3"
  },
  "language_info": {
   "codemirror_mode": {
    "name": "ipython",
    "version": 3
   },
   "file_extension": ".py",
   "mimetype": "text/x-python",
   "name": "python",
   "nbconvert_exporter": "python",
   "pygments_lexer": "ipython3",
   "version": "3.11.5"
  }
 },
 "nbformat": 4,
 "nbformat_minor": 5
}
