{
 "cells": [
  {
   "cell_type": "code",
   "execution_count": null,
   "id": "3289e27f-4df9-464f-9e4b-59521ea46e64",
   "metadata": {},
   "outputs": [],
   "source": [
    "#Question 1a : Given a list of cities and their corresponding ZIP codes, extract the ZIP codes and organize them into a tuple. \n",
    "\n",
    "zipcode = {'90210':'Beverly Hills, CA', '60601': 'Chicago, IL', '94102':'San Francisco, CA'}\n",
    " \n",
    "    \n",
    "    \n",
    "    \n",
    "#Question 1b: Rearrange the tuple in reverse order from 1a. \n",
    "\n",
    "\n",
    "\n"
   ]
  },
  {
   "cell_type": "code",
   "execution_count": null,
   "id": "df87f685",
   "metadata": {},
   "outputs": [],
   "source": [
    "# Answer 1a\n",
    "zipcode = {'90210':'Beverly Hills, CA', '60601': 'Chicago, IL', '94102':'San Francisco, CA'}\n",
    "\n",
    "# Extract the keys (zip codes) and convert them to a tuple\n",
    "zip_codes_tuple = tuple(zipcode.keys())\n",
    "\n",
    "print(zip_codes_tuple)"
   ]
  },
  {
   "cell_type": "code",
   "execution_count": null,
   "id": "dddf3788",
   "metadata": {},
   "outputs": [],
   "source": [
    "# Answer 1b\n",
    "zipcode = {'90210':'Beverly Hills, CA', '60601': 'Chicago, IL', '94102':'San Francisco, CA'}\n",
    "\n",
    "# Extract the keys (zip codes) and convert them to a tuple\n",
    "zip_codes_tuple = tuple(zipcode.keys())\n",
    "\n",
    "# Sort the tuple in reverse order\n",
    "sorted_zip_codes_tuple = tuple(sorted(zip_codes_tuple, reverse=True))\n",
    "\n",
    "print(sorted_zip_codes_tuple)"
   ]
  },
  {
   "cell_type": "code",
   "execution_count": null,
   "id": "0119a72c-2b26-469e-a8f2-e0b36b62935f",
   "metadata": {},
   "outputs": [],
   "source": [
    "# question 2 : Here is a list of groceries. The user needs help extracting the text \"apples\" and placing the text \"apples\" into the sentence below.\n",
    "#  Please use regular expressions. ( regex ) \n",
    "import re  \n",
    "random_text = \"Milk, eggs, bread, butter, cheese, fresh fruits (e.g., apples, bananas), fresh vegetables (e.g., lettuce, tomatoes), rice, pasta, canned tomatoes, chicken breasts or thighs, ground beef or turkey, cooking oil (e.g., olive oil), spices (e.g., salt, pepper), snacks (e.g., chips, nuts)\" \n",
    "#from https://randomwordgenerator.com/sentence.php 😀\n",
    "\n",
    "\n",
    "\n",
    "\n",
    "#What is the starting and ending position of the text \"apples\" in random_text? Paste below 👇 \n",
    "      \n",
    "      \n"
   ]
  },
  {
   "cell_type": "code",
   "execution_count": 2,
   "id": "b8cc67b6",
   "metadata": {},
   "outputs": [
    {
     "name": "stdout",
     "output_type": "stream",
     "text": [
      "Milk, eggs, bread, butter, cheese, apples, fresh vegetables (e.g., lettuce, tomatoes), rice, pasta, canned tomatoes, chicken breasts or thighs, ground beef or turkey, cooking oil (e.g., olive oil), spices (e.g., salt, pepper), snacks (e.g., chips, nuts)\n",
      "Start position: 35\n",
      "End position: 41\n"
     ]
    }
   ],
   "source": [
    "import re\n",
    "\n",
    "random_text = \"Milk, eggs, bread, butter, cheese, fresh fruits (e.g., apples, bananas), fresh vegetables (e.g., lettuce, tomatoes), rice, pasta, canned tomatoes, chicken breasts or thighs, ground beef or turkey, cooking oil (e.g., olive oil), spices (e.g., salt, pepper), snacks (e.g., chips, nuts)\"\n",
    "\n",
    "# Define the regular expression pattern to find the word \"apples\"\n",
    "pattern = r'\\bapples\\b'\n",
    "\n",
    "# Use re.search() to find the word \"apples\" in the text\n",
    "match = re.search(pattern, random_text)\n",
    "\n",
    "# Extract the matched text if found\n",
    "if match:\n",
    "    extracted_text = match.group(0)\n",
    "else:\n",
    "    extracted_text = None\n",
    "\n",
    "# print(extracted_text)\n",
    "# Define the pattern to match \"fresh fruits (e.g., apples, bananas)\"\n",
    "pattern = r'fresh fruits \\(e\\.g\\., apples, bananas\\)'\n",
    "\n",
    "# Replace the matched text with \"apples\"\n",
    "new_text = re.sub(pattern, 'apples', random_text)\n",
    "\n",
    "# Find the start position of \"apples\" in the new string\n",
    "start_position = new_text.find('apples')\n",
    "# Calculate the end position of \"apples\"\n",
    "end_position = start_position + len('apples')\n",
    "\n",
    "# Print the new string and the start and end positions of \"apples\"\n",
    "print(new_text)\n",
    "print(f'Start position: {start_position}')\n",
    "print(f'End position: {end_position}')"
   ]
  },
  {
   "cell_type": "code",
   "execution_count": 3,
   "id": "bae211a8-20d1-44c2-97bf-5ed98fc4cd74",
   "metadata": {},
   "outputs": [
    {
     "name": "stdout",
     "output_type": "stream",
     "text": [
      "[]\n"
     ]
    }
   ],
   "source": [
    "# question 3 : \n",
    "#I have a link to a recipe for making apple pie, perfect for celebrating Pi Day. \n",
    "#I'm seeking assistance with extracting the 'recipeIngredient' section from the website. \n",
    "#A helpful hint is that we could utilize the 'json' module for this task.\n",
    "#from bs4 import BeautifulSoup\n",
    "#from urllib.request import Request, urlopen\n",
    "\n",
    "# help you get started\n",
    "#site= \"https://littlespoonfarm.com/apple-pie-recipe/\" # happy PI day \n",
    "\n",
    "\n",
    "# ***********************\n",
    "import json\n",
    "from bs4 import BeautifulSoup\n",
    "from urllib.request import Request, urlopen\n",
    "\n",
    "# URL of the site\n",
    "site = \"https://littlespoonfarm.com/apple-pie-recipe/\"\n",
    "\n",
    "# Fetch the content of the URL\n",
    "req = Request(site, headers={'User-Agent': 'Mozilla/5.0'})\n",
    "webpage = urlopen(req).read()\n",
    "\n",
    "# Parse the content with BeautifulSoup\n",
    "soup = BeautifulSoup(webpage, \"html.parser\")\n",
    "\n",
    "# Find the JSON-LD script that contains the recipe information\n",
    "script_tag = soup.find('script', type='application/ld+json')\n",
    "\n",
    "# Load the content of the script tag as JSON\n",
    "data = json.loads(script_tag.string)\n",
    "\n",
    "# Extract the 'recipeIngredient' section\n",
    "recipe_ingredients = data.get('recipeIngredient', [])\n",
    "\n",
    "# Print the extracted ingredients\n",
    "print(recipe_ingredients)\n",
    "\n"
   ]
  },
  {
   "cell_type": "code",
   "execution_count": 4,
   "id": "96c51918-ae9b-493a-9803-88087a586dad",
   "metadata": {},
   "outputs": [
    {
     "name": "stdout",
     "output_type": "stream",
     "text": [
      "{-70, -60, 36, 74, 42, -52, 12, -20, -82, 18, -46, -14, 88, -38}\n",
      "{-95, -31, -29, 69, 41, 91, 79, -67, 17, -13, -73, 25, 27, -35, 63}\n",
      "{9, 2, 5, 6}\n"
     ]
    }
   ],
   "source": [
    "# question 4 :\n",
    "# Here are two sets \n",
    "#4a: Create a code for the user who wants to extract only even numbers from setA.\n",
    "setA = {-82, 45, -27, 69, -14, 83, 57, -91, 36, -3, 18, -60, 74, -38, 5, -70, 29, 91, -52, 12, -46, 63, -9, 42, 77, -65, 21, -37, 88, -20}\n",
    "\n",
    "# Extract only even numbers using a set comprehension\n",
    "even_numbers = {num for num in setA if num % 2 == 0}\n",
    "\n",
    "print(even_numbers)\n",
    "\n",
    "#4b: Create a code for the user who wants to extract only odd numbers from setB.\n",
    "setB = {-88, 17, -42, 69, -31, 58, 74, -95, 25, -13, 36, -67, 82, -50, 41, -73, 6, 91, -29, 52, -84, 27, -20, 63, 79, -58, 12, -35, 88, -16}\n",
    "    \n",
    "# Extract only odd numbers using a set comprehension\n",
    "odd_numbers = {num for num in setB if num % 2 != 0}\n",
    "\n",
    "print(odd_numbers)\n",
    "\n",
    "      \n",
    "#4c: Find the intersection between set2 and set3.\n",
    "\n",
    "set2 = {1,2,4,5,6,7,8,9}\n",
    "set3 = {2,9,5,6,15,13}\n",
    "\n",
    "# Find the intersection using the intersection operator &\n",
    "intersection_set = set2 & set3\n",
    "\n",
    "# Alternatively, you can use the intersection method\n",
    "# intersection_set = set2.intersection(set3)\n",
    "\n",
    "print(intersection_set)\n",
    "\n"
   ]
  },
  {
   "cell_type": "code",
   "execution_count": null,
   "id": "39186245-0a7e-48c4-b0e5-c0b2e8cdb8ed",
   "metadata": {},
   "outputs": [],
   "source": [
    "# Question 5\n",
    "#Upload your completed lab to your GitHub and submit the link to yout Git Hub account."
   ]
  }
 ],
 "metadata": {
  "kernelspec": {
   "display_name": "Python 3 (ipykernel)",
   "language": "python",
   "name": "python3"
  },
  "language_info": {
   "codemirror_mode": {
    "name": "ipython",
    "version": 3
   },
   "file_extension": ".py",
   "mimetype": "text/x-python",
   "name": "python",
   "nbconvert_exporter": "python",
   "pygments_lexer": "ipython3",
   "version": "3.11.5"
  }
 },
 "nbformat": 4,
 "nbformat_minor": 5
}
